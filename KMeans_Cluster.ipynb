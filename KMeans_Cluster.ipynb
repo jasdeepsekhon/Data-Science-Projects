{
  "nbformat": 4,
  "nbformat_minor": 0,
  "metadata": {
    "colab": {
      "provenance": []
    },
    "kernelspec": {
      "name": "python3",
      "display_name": "Python 3"
    },
    "language_info": {
      "name": "python"
    }
  },
  "cells": [
    {
      "cell_type": "code",
      "execution_count": 86,
      "metadata": {
        "id": "RP2875ephVSY"
      },
      "outputs": [],
      "source": [
        "import pandas as pd\n",
        "from sklearn.preprocessing import LabelEncoder\n",
        "from sklearn.preprocessing import MinMaxScaler\n",
        "from sklearn.cluster import KMeans\n",
        "import matplotlib.pyplot as plt\n",
        "\n",
        "import warnings\n",
        "warnings.filterwarnings(\"ignore\")"
      ]
    },
    {
      "cell_type": "code",
      "source": [
        "facebook_data_set = pd.read_csv(\n",
        "    'https://archive.ics.uci.edu/ml/machine-learning-databases/00488/Live_20210128.csv')\n",
        "\n",
        "print(facebook_data_set.head())"
      ],
      "metadata": {
        "colab": {
          "base_uri": "https://localhost:8080/"
        },
        "id": "V2QvHLEPjICK",
        "outputId": "1b92cc43-ccb5-4b1c-b48b-77d19a8b0fed"
      },
      "execution_count": 87,
      "outputs": [
        {
          "output_type": "stream",
          "name": "stdout",
          "text": [
            "   status_id status_type status_published  num_reactions  num_comments  \\\n",
            "0          1       video   4/22/2018 6:00            529           512   \n",
            "1          2       photo  4/21/2018 22:45            150             0   \n",
            "2          3       video   4/21/2018 6:17            227           236   \n",
            "3          4       photo   4/21/2018 2:29            111             0   \n",
            "4          5       photo   4/18/2018 3:22            213             0   \n",
            "\n",
            "   num_shares  num_likes  num_loves  num_wows  num_hahas  num_sads  \\\n",
            "0         262        432         92         3          1         1   \n",
            "1           0        150          0         0          0         0   \n",
            "2          57        204         21         1          1         0   \n",
            "3           0        111          0         0          0         0   \n",
            "4           0        204          9         0          0         0   \n",
            "\n",
            "   num_angrys  Column1  Column2  Column3  Column4  \n",
            "0           0      NaN      NaN      NaN      NaN  \n",
            "1           0      NaN      NaN      NaN      NaN  \n",
            "2           0      NaN      NaN      NaN      NaN  \n",
            "3           0      NaN      NaN      NaN      NaN  \n",
            "4           0      NaN      NaN      NaN      NaN  \n"
          ]
        }
      ]
    },
    {
      "cell_type": "code",
      "source": [
        "#There are columns with no information such as column 1-4 which I removed from table\n",
        "facebook_data_set = facebook_data_set.drop('Column1', axis=1)\n",
        "facebook_data_set = facebook_data_set.drop('Column2', axis=1)\n",
        "facebook_data_set = facebook_data_set.drop('Column3', axis=1)\n",
        "facebook_data_set = facebook_data_set.drop('Column4', axis=1)\n",
        "\n",
        "print(facebook_data_set)"
      ],
      "metadata": {
        "colab": {
          "base_uri": "https://localhost:8080/"
        },
        "id": "g6xH5vhAjQ3g",
        "outputId": "851c9abf-844c-4cfa-bb74-90c8a260e4e4"
      },
      "execution_count": 88,
      "outputs": [
        {
          "output_type": "stream",
          "name": "stdout",
          "text": [
            "      status_id status_type status_published  num_reactions  num_comments  \\\n",
            "0             1       video   4/22/2018 6:00            529           512   \n",
            "1             2       photo  4/21/2018 22:45            150             0   \n",
            "2             3       video   4/21/2018 6:17            227           236   \n",
            "3             4       photo   4/21/2018 2:29            111             0   \n",
            "4             5       photo   4/18/2018 3:22            213             0   \n",
            "...         ...         ...              ...            ...           ...   \n",
            "7045       7046       photo   9/24/2016 2:58             89             0   \n",
            "7046       7047       photo  9/23/2016 11:19             16             0   \n",
            "7047       7048       photo  9/21/2016 23:03              2             0   \n",
            "7048       7049       photo   9/20/2016 0:43            351            12   \n",
            "7049       7050       photo  9/10/2016 10:30             17             0   \n",
            "\n",
            "      num_shares  num_likes  num_loves  num_wows  num_hahas  num_sads  \\\n",
            "0            262        432         92         3          1         1   \n",
            "1              0        150          0         0          0         0   \n",
            "2             57        204         21         1          1         0   \n",
            "3              0        111          0         0          0         0   \n",
            "4              0        204          9         0          0         0   \n",
            "...          ...        ...        ...       ...        ...       ...   \n",
            "7045           0         89          0         0          0         0   \n",
            "7046           0         14          1         0          1         0   \n",
            "7047           0          1          1         0          0         0   \n",
            "7048          22        349          2         0          0         0   \n",
            "7049           0         17          0         0          0         0   \n",
            "\n",
            "      num_angrys  \n",
            "0              0  \n",
            "1              0  \n",
            "2              0  \n",
            "3              0  \n",
            "4              0  \n",
            "...          ...  \n",
            "7045           0  \n",
            "7046           0  \n",
            "7047           0  \n",
            "7048           0  \n",
            "7049           0  \n",
            "\n",
            "[7050 rows x 12 columns]\n"
          ]
        }
      ]
    },
    {
      "cell_type": "code",
      "source": [
        "#Drop NA/NULL values\n",
        "facebook_data_set = facebook_data_set.dropna(axis='columns')\n",
        "facebook_data_set = facebook_data_set.dropna(axis='rows')"
      ],
      "metadata": {
        "id": "o5oHvz8Dj-U6"
      },
      "execution_count": 89,
      "outputs": []
    },
    {
      "cell_type": "code",
      "source": [
        "#Check for Duplicate Entries and Remove Them. \n",
        "#There are none as shown in Output.\n",
        "facebook_2 = facebook_data_set[facebook_data_set.duplicated()]\n",
        "print(facebook_2)\n"
      ],
      "metadata": {
        "colab": {
          "base_uri": "https://localhost:8080/"
        },
        "id": "d7HXDUuLliDJ",
        "outputId": "417a7772-e0bd-4c70-9823-45bc65d93c54"
      },
      "execution_count": 90,
      "outputs": [
        {
          "output_type": "stream",
          "name": "stdout",
          "text": [
            "Empty DataFrame\n",
            "Columns: [status_id, status_type, status_published, num_reactions, num_comments, num_shares, num_likes, num_loves, num_wows, num_hahas, num_sads, num_angrys]\n",
            "Index: []\n"
          ]
        }
      ]
    },
    {
      "cell_type": "code",
      "source": [
        "#Firstly lets take a look at our summary of the DataFrame\n",
        "facebook_data_set.info()\n",
        "\n",
        "#Check for missing values in dataset\n",
        "facebook_data_set.isnull().sum()\n"
      ],
      "metadata": {
        "colab": {
          "base_uri": "https://localhost:8080/"
        },
        "id": "iDz1NguKlyjZ",
        "outputId": "aa09526f-9557-44b3-9673-f908d42a56e3"
      },
      "execution_count": 91,
      "outputs": [
        {
          "output_type": "stream",
          "name": "stdout",
          "text": [
            "<class 'pandas.core.frame.DataFrame'>\n",
            "RangeIndex: 7050 entries, 0 to 7049\n",
            "Data columns (total 12 columns):\n",
            " #   Column            Non-Null Count  Dtype \n",
            "---  ------            --------------  ----- \n",
            " 0   status_id         7050 non-null   int64 \n",
            " 1   status_type       7050 non-null   object\n",
            " 2   status_published  7050 non-null   object\n",
            " 3   num_reactions     7050 non-null   int64 \n",
            " 4   num_comments      7050 non-null   int64 \n",
            " 5   num_shares        7050 non-null   int64 \n",
            " 6   num_likes         7050 non-null   int64 \n",
            " 7   num_loves         7050 non-null   int64 \n",
            " 8   num_wows          7050 non-null   int64 \n",
            " 9   num_hahas         7050 non-null   int64 \n",
            " 10  num_sads          7050 non-null   int64 \n",
            " 11  num_angrys        7050 non-null   int64 \n",
            "dtypes: int64(10), object(2)\n",
            "memory usage: 661.1+ KB\n"
          ]
        },
        {
          "output_type": "execute_result",
          "data": {
            "text/plain": [
              "status_id           0\n",
              "status_type         0\n",
              "status_published    0\n",
              "num_reactions       0\n",
              "num_comments        0\n",
              "num_shares          0\n",
              "num_likes           0\n",
              "num_loves           0\n",
              "num_wows            0\n",
              "num_hahas           0\n",
              "num_sads            0\n",
              "num_angrys          0\n",
              "dtype: int64"
            ]
          },
          "metadata": {},
          "execution_count": 91
        }
      ]
    },
    {
      "cell_type": "code",
      "source": [
        "#Transform Categorical Attributes and Apply Normalization to Data\n",
        "\n",
        "\n",
        "# Checking the Different Categorical Values for Uniqueness\n",
        "\n",
        "#Approximately a unique identifier for each of the instances. \n",
        "#Thus this is not a variable that we can use.\n",
        "print(facebook_data_set['status_id'].unique())\n",
        "print(len(facebook_data_set['status_id'].unique()))\n",
        "\n",
        "#We will use status_type for target variable\n",
        "print(facebook_data_set['status_type'].unique())\n",
        "print(len(facebook_data_set['status_type'].unique()))\n",
        "\n",
        "#Approximately a unique identifier for each of the instances. \n",
        "#Thus this is not a variable that we can use.\n",
        "print(facebook_data_set['status_published'].unique())\n",
        "print(len(facebook_data_set['status_published'].unique()))\n"
      ],
      "metadata": {
        "colab": {
          "base_uri": "https://localhost:8080/"
        },
        "id": "WSbJBzVvmEz6",
        "outputId": "5d8e6696-2d6f-4da0-da98-2955a1db2811"
      },
      "execution_count": 92,
      "outputs": [
        {
          "output_type": "stream",
          "name": "stdout",
          "text": [
            "[   1    2    3 ... 7048 7049 7050]\n",
            "7050\n",
            "['video' 'photo' 'link' 'status']\n",
            "4\n",
            "['4/22/2018 6:00' '4/21/2018 22:45' '4/21/2018 6:17' ... '9/21/2016 23:03'\n",
            " '9/20/2016 0:43' '9/10/2016 10:30']\n",
            "6913\n"
          ]
        }
      ]
    },
    {
      "cell_type": "code",
      "source": [
        "facebook_data_set.drop(['status_id', 'status_published'], axis=1, inplace=True)"
      ],
      "metadata": {
        "id": "d5YftBInmoFQ"
      },
      "execution_count": 93,
      "outputs": []
    },
    {
      "cell_type": "code",
      "source": [
        "facebook_data_set.info()"
      ],
      "metadata": {
        "colab": {
          "base_uri": "https://localhost:8080/"
        },
        "id": "TnBZ2VR0mqOu",
        "outputId": "a6b1aa9b-1167-4e76-95dc-bb8c2345b4d1"
      },
      "execution_count": 94,
      "outputs": [
        {
          "output_type": "stream",
          "name": "stdout",
          "text": [
            "<class 'pandas.core.frame.DataFrame'>\n",
            "RangeIndex: 7050 entries, 0 to 7049\n",
            "Data columns (total 10 columns):\n",
            " #   Column         Non-Null Count  Dtype \n",
            "---  ------         --------------  ----- \n",
            " 0   status_type    7050 non-null   object\n",
            " 1   num_reactions  7050 non-null   int64 \n",
            " 2   num_comments   7050 non-null   int64 \n",
            " 3   num_shares     7050 non-null   int64 \n",
            " 4   num_likes      7050 non-null   int64 \n",
            " 5   num_loves      7050 non-null   int64 \n",
            " 6   num_wows       7050 non-null   int64 \n",
            " 7   num_hahas      7050 non-null   int64 \n",
            " 8   num_sads       7050 non-null   int64 \n",
            " 9   num_angrys     7050 non-null   int64 \n",
            "dtypes: int64(9), object(1)\n",
            "memory usage: 550.9+ KB\n"
          ]
        }
      ]
    },
    {
      "cell_type": "code",
      "source": [
        "print(facebook_data_set.head())"
      ],
      "metadata": {
        "colab": {
          "base_uri": "https://localhost:8080/"
        },
        "id": "vJl-4f7knysg",
        "outputId": "ce7d2dce-a22f-436d-caa9-6350d7d1b490"
      },
      "execution_count": 95,
      "outputs": [
        {
          "output_type": "stream",
          "name": "stdout",
          "text": [
            "  status_type  num_reactions  num_comments  num_shares  num_likes  num_loves  \\\n",
            "0       video            529           512         262        432         92   \n",
            "1       photo            150             0           0        150          0   \n",
            "2       video            227           236          57        204         21   \n",
            "3       photo            111             0           0        111          0   \n",
            "4       photo            213             0           0        204          9   \n",
            "\n",
            "   num_wows  num_hahas  num_sads  num_angrys  \n",
            "0         3          1         1           0  \n",
            "1         0          0         0           0  \n",
            "2         1          1         0           0  \n",
            "3         0          0         0           0  \n",
            "4         0          0         0           0  \n"
          ]
        }
      ]
    },
    {
      "cell_type": "code",
      "source": [
        "X = facebook_data_set  # feature variable\n",
        "y = facebook_data_set['status_type']  # target variable"
      ],
      "metadata": {
        "id": "EO4WIBVemsjJ"
      },
      "execution_count": 96,
      "outputs": []
    },
    {
      "cell_type": "code",
      "source": [
        "#Convert Categorical Variables to Integers\n",
        "\n",
        "LabelEncoder = LabelEncoder()\n",
        "\n",
        "X['status_type'] = LabelEncoder.fit_transform(X['status_type'])\n",
        "\n",
        "y = LabelEncoder.transform(y)\n",
        "\n",
        "print(X.info())"
      ],
      "metadata": {
        "colab": {
          "base_uri": "https://localhost:8080/"
        },
        "id": "KgyZYnVBmuN7",
        "outputId": "47590cc4-e52a-45f8-e421-a8f2775bed05"
      },
      "execution_count": 97,
      "outputs": [
        {
          "output_type": "stream",
          "name": "stdout",
          "text": [
            "<class 'pandas.core.frame.DataFrame'>\n",
            "RangeIndex: 7050 entries, 0 to 7049\n",
            "Data columns (total 10 columns):\n",
            " #   Column         Non-Null Count  Dtype\n",
            "---  ------         --------------  -----\n",
            " 0   status_type    7050 non-null   int64\n",
            " 1   num_reactions  7050 non-null   int64\n",
            " 2   num_comments   7050 non-null   int64\n",
            " 3   num_shares     7050 non-null   int64\n",
            " 4   num_likes      7050 non-null   int64\n",
            " 5   num_loves      7050 non-null   int64\n",
            " 6   num_wows       7050 non-null   int64\n",
            " 7   num_hahas      7050 non-null   int64\n",
            " 8   num_sads       7050 non-null   int64\n",
            " 9   num_angrys     7050 non-null   int64\n",
            "dtypes: int64(10)\n",
            "memory usage: 550.9 KB\n",
            "None\n"
          ]
        }
      ]
    },
    {
      "cell_type": "code",
      "source": [
        "column = X.columns\n",
        "scaler = MinMaxScaler()\n",
        "X = scaler.fit_transform(X)\n",
        "X = pd.DataFrame(X, columns=[column])\n",
        "X.head()"
      ],
      "metadata": {
        "id": "odBCMK9sm2SH",
        "colab": {
          "base_uri": "https://localhost:8080/",
          "height": 204
        },
        "outputId": "7111c351-3fc5-41af-d762-fe5500d1ea84"
      },
      "execution_count": 98,
      "outputs": [
        {
          "output_type": "execute_result",
          "data": {
            "text/plain": [
              "  status_type num_reactions num_comments num_shares num_likes num_loves  \\\n",
              "0    1.000000      0.112314     0.024393   0.076519  0.091720  0.140030   \n",
              "1    0.333333      0.031847     0.000000   0.000000  0.031847  0.000000   \n",
              "2    1.000000      0.048195     0.011243   0.016647  0.043312  0.031963   \n",
              "3    0.333333      0.023567     0.000000   0.000000  0.023567  0.000000   \n",
              "4    0.333333      0.045223     0.000000   0.000000  0.043312  0.013699   \n",
              "\n",
              "   num_wows num_hahas  num_sads num_angrys  \n",
              "0  0.010791  0.006369  0.019608        0.0  \n",
              "1  0.000000  0.000000  0.000000        0.0  \n",
              "2  0.003597  0.006369  0.000000        0.0  \n",
              "3  0.000000  0.000000  0.000000        0.0  \n",
              "4  0.000000  0.000000  0.000000        0.0  "
            ],
            "text/html": [
              "\n",
              "  <div id=\"df-3f3624fa-b14f-4a2b-aef8-eee94887dcb6\">\n",
              "    <div class=\"colab-df-container\">\n",
              "      <div>\n",
              "<style scoped>\n",
              "    .dataframe tbody tr th:only-of-type {\n",
              "        vertical-align: middle;\n",
              "    }\n",
              "\n",
              "    .dataframe tbody tr th {\n",
              "        vertical-align: top;\n",
              "    }\n",
              "\n",
              "    .dataframe thead tr th {\n",
              "        text-align: left;\n",
              "    }\n",
              "</style>\n",
              "<table border=\"1\" class=\"dataframe\">\n",
              "  <thead>\n",
              "    <tr>\n",
              "      <th></th>\n",
              "      <th>status_type</th>\n",
              "      <th>num_reactions</th>\n",
              "      <th>num_comments</th>\n",
              "      <th>num_shares</th>\n",
              "      <th>num_likes</th>\n",
              "      <th>num_loves</th>\n",
              "      <th>num_wows</th>\n",
              "      <th>num_hahas</th>\n",
              "      <th>num_sads</th>\n",
              "      <th>num_angrys</th>\n",
              "    </tr>\n",
              "  </thead>\n",
              "  <tbody>\n",
              "    <tr>\n",
              "      <th>0</th>\n",
              "      <td>1.000000</td>\n",
              "      <td>0.112314</td>\n",
              "      <td>0.024393</td>\n",
              "      <td>0.076519</td>\n",
              "      <td>0.091720</td>\n",
              "      <td>0.140030</td>\n",
              "      <td>0.010791</td>\n",
              "      <td>0.006369</td>\n",
              "      <td>0.019608</td>\n",
              "      <td>0.0</td>\n",
              "    </tr>\n",
              "    <tr>\n",
              "      <th>1</th>\n",
              "      <td>0.333333</td>\n",
              "      <td>0.031847</td>\n",
              "      <td>0.000000</td>\n",
              "      <td>0.000000</td>\n",
              "      <td>0.031847</td>\n",
              "      <td>0.000000</td>\n",
              "      <td>0.000000</td>\n",
              "      <td>0.000000</td>\n",
              "      <td>0.000000</td>\n",
              "      <td>0.0</td>\n",
              "    </tr>\n",
              "    <tr>\n",
              "      <th>2</th>\n",
              "      <td>1.000000</td>\n",
              "      <td>0.048195</td>\n",
              "      <td>0.011243</td>\n",
              "      <td>0.016647</td>\n",
              "      <td>0.043312</td>\n",
              "      <td>0.031963</td>\n",
              "      <td>0.003597</td>\n",
              "      <td>0.006369</td>\n",
              "      <td>0.000000</td>\n",
              "      <td>0.0</td>\n",
              "    </tr>\n",
              "    <tr>\n",
              "      <th>3</th>\n",
              "      <td>0.333333</td>\n",
              "      <td>0.023567</td>\n",
              "      <td>0.000000</td>\n",
              "      <td>0.000000</td>\n",
              "      <td>0.023567</td>\n",
              "      <td>0.000000</td>\n",
              "      <td>0.000000</td>\n",
              "      <td>0.000000</td>\n",
              "      <td>0.000000</td>\n",
              "      <td>0.0</td>\n",
              "    </tr>\n",
              "    <tr>\n",
              "      <th>4</th>\n",
              "      <td>0.333333</td>\n",
              "      <td>0.045223</td>\n",
              "      <td>0.000000</td>\n",
              "      <td>0.000000</td>\n",
              "      <td>0.043312</td>\n",
              "      <td>0.013699</td>\n",
              "      <td>0.000000</td>\n",
              "      <td>0.000000</td>\n",
              "      <td>0.000000</td>\n",
              "      <td>0.0</td>\n",
              "    </tr>\n",
              "  </tbody>\n",
              "</table>\n",
              "</div>\n",
              "      <button class=\"colab-df-convert\" onclick=\"convertToInteractive('df-3f3624fa-b14f-4a2b-aef8-eee94887dcb6')\"\n",
              "              title=\"Convert this dataframe to an interactive table.\"\n",
              "              style=\"display:none;\">\n",
              "        \n",
              "  <svg xmlns=\"http://www.w3.org/2000/svg\" height=\"24px\"viewBox=\"0 0 24 24\"\n",
              "       width=\"24px\">\n",
              "    <path d=\"M0 0h24v24H0V0z\" fill=\"none\"/>\n",
              "    <path d=\"M18.56 5.44l.94 2.06.94-2.06 2.06-.94-2.06-.94-.94-2.06-.94 2.06-2.06.94zm-11 1L8.5 8.5l.94-2.06 2.06-.94-2.06-.94L8.5 2.5l-.94 2.06-2.06.94zm10 10l.94 2.06.94-2.06 2.06-.94-2.06-.94-.94-2.06-.94 2.06-2.06.94z\"/><path d=\"M17.41 7.96l-1.37-1.37c-.4-.4-.92-.59-1.43-.59-.52 0-1.04.2-1.43.59L10.3 9.45l-7.72 7.72c-.78.78-.78 2.05 0 2.83L4 21.41c.39.39.9.59 1.41.59.51 0 1.02-.2 1.41-.59l7.78-7.78 2.81-2.81c.8-.78.8-2.07 0-2.86zM5.41 20L4 18.59l7.72-7.72 1.47 1.35L5.41 20z\"/>\n",
              "  </svg>\n",
              "      </button>\n",
              "      \n",
              "  <style>\n",
              "    .colab-df-container {\n",
              "      display:flex;\n",
              "      flex-wrap:wrap;\n",
              "      gap: 12px;\n",
              "    }\n",
              "\n",
              "    .colab-df-convert {\n",
              "      background-color: #E8F0FE;\n",
              "      border: none;\n",
              "      border-radius: 50%;\n",
              "      cursor: pointer;\n",
              "      display: none;\n",
              "      fill: #1967D2;\n",
              "      height: 32px;\n",
              "      padding: 0 0 0 0;\n",
              "      width: 32px;\n",
              "    }\n",
              "\n",
              "    .colab-df-convert:hover {\n",
              "      background-color: #E2EBFA;\n",
              "      box-shadow: 0px 1px 2px rgba(60, 64, 67, 0.3), 0px 1px 3px 1px rgba(60, 64, 67, 0.15);\n",
              "      fill: #174EA6;\n",
              "    }\n",
              "\n",
              "    [theme=dark] .colab-df-convert {\n",
              "      background-color: #3B4455;\n",
              "      fill: #D2E3FC;\n",
              "    }\n",
              "\n",
              "    [theme=dark] .colab-df-convert:hover {\n",
              "      background-color: #434B5C;\n",
              "      box-shadow: 0px 1px 3px 1px rgba(0, 0, 0, 0.15);\n",
              "      filter: drop-shadow(0px 1px 2px rgba(0, 0, 0, 0.3));\n",
              "      fill: #FFFFFF;\n",
              "    }\n",
              "  </style>\n",
              "\n",
              "      <script>\n",
              "        const buttonEl =\n",
              "          document.querySelector('#df-3f3624fa-b14f-4a2b-aef8-eee94887dcb6 button.colab-df-convert');\n",
              "        buttonEl.style.display =\n",
              "          google.colab.kernel.accessAllowed ? 'block' : 'none';\n",
              "\n",
              "        async function convertToInteractive(key) {\n",
              "          const element = document.querySelector('#df-3f3624fa-b14f-4a2b-aef8-eee94887dcb6');\n",
              "          const dataTable =\n",
              "            await google.colab.kernel.invokeFunction('convertToInteractive',\n",
              "                                                     [key], {});\n",
              "          if (!dataTable) return;\n",
              "\n",
              "          const docLinkHtml = 'Like what you see? Visit the ' +\n",
              "            '<a target=\"_blank\" href=https://colab.research.google.com/notebooks/data_table.ipynb>data table notebook</a>'\n",
              "            + ' to learn more about interactive tables.';\n",
              "          element.innerHTML = '';\n",
              "          dataTable['output_type'] = 'display_data';\n",
              "          await google.colab.output.renderOutput(dataTable, element);\n",
              "          const docLink = document.createElement('div');\n",
              "          docLink.innerHTML = docLinkHtml;\n",
              "          element.appendChild(docLink);\n",
              "        }\n",
              "      </script>\n",
              "    </div>\n",
              "  </div>\n",
              "  "
            ]
          },
          "metadata": {},
          "execution_count": 98
        }
      ]
    },
    {
      "cell_type": "code",
      "source": [
        "#Start off with Cluster N=2\n",
        "kmeans_cluster = KMeans(n_clusters=2, random_state=0)\n",
        "print(kmeans_cluster.fit(X))\n",
        "\n",
        "print(kmeans_cluster.cluster_centers_)\n",
        "# This is not good model the inertia is too high.\n",
        "# The lesser the inertia, the better the model is performing \n",
        "#So, this is not a good model fit to the data.\n",
        "print(kmeans_cluster.inertia_)"
      ],
      "metadata": {
        "colab": {
          "base_uri": "https://localhost:8080/"
        },
        "id": "5Iq7BcZ-n7PY",
        "outputId": "e4d3f94b-aab3-4b33-851d-a5a4a6df1c8d"
      },
      "execution_count": 99,
      "outputs": [
        {
          "output_type": "stream",
          "name": "stdout",
          "text": [
            "KMeans(n_clusters=2, random_state=0)\n",
            "[[3.28506857e-01 3.90710874e-02 7.54854864e-04 7.53667113e-04\n",
            "  3.85438884e-02 2.17448568e-03 2.43721364e-03 1.20039760e-03\n",
            "  2.75348016e-03 1.45313276e-03]\n",
            " [9.54921576e-01 6.46330441e-02 2.67028654e-02 2.93171709e-02\n",
            "  5.71231462e-02 4.71007076e-02 8.18581889e-03 9.65207685e-03\n",
            "  8.04219428e-03 7.19501847e-03]]\n",
            "237.75726404419646\n"
          ]
        }
      ]
    },
    {
      "cell_type": "code",
      "source": [
        "\n",
        "label = kmeans_cluster.labels_\n",
        "label_eval = sum(y == label)\n",
        "print(\"%d out of 7050 samples were correctly labelled.\" % (label_eval))\n",
        "print('Accuracy score: {0:0.2f}'. format(label_eval/float(y.size)))\n",
        "\n",
        "#Very Weak Accuracy Score - Not good "
      ],
      "metadata": {
        "colab": {
          "base_uri": "https://localhost:8080/"
        },
        "id": "9v_3i7u8oA0J",
        "outputId": "8d1fc8ff-18ad-4f10-ce8d-50b228280d24"
      },
      "execution_count": 100,
      "outputs": [
        {
          "output_type": "stream",
          "name": "stdout",
          "text": [
            "63 out of 7050 samples were correctly labelled.\n",
            "Accuracy score: 0.01\n"
          ]
        }
      ]
    },
    {
      "cell_type": "code",
      "source": [
        "#ELBOW METHOD\n",
        "#graph shows that k = 2 is good, however we have already noticed that it has a weak classification accuracy \n",
        "#Will attempt with other clusters (N=3, N=4)\n",
        "SSE = []\n",
        "for cluster in range(1, 11):\n",
        "    kmeans = KMeans(n_clusters=cluster, init='k-means++')\n",
        "    kmeans.fit(X)\n",
        "    SSE.append(kmeans.inertia_)\n",
        "# converting the results into a dataframe and plotting them\n",
        "frame = pd.DataFrame({'Cluster': range(1, 11), 'SSE': SSE})\n",
        "plt.figure(figsize=(10, 10))\n",
        "plt.plot(frame['Cluster'], frame['SSE'], marker='o')\n",
        "plt.xlabel('Number of clusters')\n",
        "plt.ylabel('Inertia')\n",
        "plt.show()"
      ],
      "metadata": {
        "colab": {
          "base_uri": "https://localhost:8080/",
          "height": 606
        },
        "id": "arejbEA8of2n",
        "outputId": "cfbf6938-855f-4d83-c44f-87a23c8f51ee"
      },
      "execution_count": 101,
      "outputs": [
        {
          "output_type": "display_data",
          "data": {
            "text/plain": [
              "<Figure size 720x720 with 1 Axes>"
            ],
            "image/png": "[encoded data removed]"
          },
          "metadata": {
            "needs_background": "light"
          }
        }
      ]
    },
    {
      "cell_type": "code",
      "source": [
        "kmeans_cluster = KMeans(n_clusters=3, random_state=0)\n",
        "kmeans_cluster.fit(X)\n",
        "\n",
        "label = kmeans_cluster.labels_\n",
        "label_eval = sum (y==label)\n",
        "\n",
        "print(\"%d out of 7050 samples were correctly labelled.\" % (label_eval))\n",
        "print('Accuracy score: {0:0.2f}'. format(label_eval/float(y.size)))"
      ],
      "metadata": {
        "colab": {
          "base_uri": "https://localhost:8080/"
        },
        "id": "vV-irprjpCRO",
        "outputId": "385b3d07-7cc6-46d6-aa3a-ec18e3f16314"
      },
      "execution_count": 102,
      "outputs": [
        {
          "output_type": "stream",
          "name": "stdout",
          "text": [
            "138 out of 7050 samples were correctly labelled.\n",
            "Accuracy score: 0.02\n"
          ]
        }
      ]
    },
    {
      "cell_type": "code",
      "source": [
        "kmeans_cluster = KMeans(n_clusters=4, random_state=0)\n",
        "kmeans_cluster.fit(X)\n",
        "# check how many of the samples were correctly labeled\n",
        "label = kmeans_cluster.labels_\n",
        "label_eval = sum(y == label)\n",
        "print(\"%d out of 7050 samples were correctly labelled.\" % (label_eval))\n",
        "print('Accuracy score: {0:0.2f}'. format(label_eval/float(y.size)))\n",
        "\n",
        "#Therefore Cluster 4 is the best with highest accuracy score and most correctly labelled"
      ],
      "metadata": {
        "colab": {
          "base_uri": "https://localhost:8080/"
        },
        "id": "rAM1mQ9npGTj",
        "outputId": "9bfa5cb9-e7d4-41d5-97b0-8cb6b78c65d3"
      },
      "execution_count": 103,
      "outputs": [
        {
          "output_type": "stream",
          "name": "stdout",
          "text": [
            "4340 out of 7050 samples were correctly labelled.\n",
            "Accuracy score: 0.62\n"
          ]
        }
      ]
    }
  ]
}
